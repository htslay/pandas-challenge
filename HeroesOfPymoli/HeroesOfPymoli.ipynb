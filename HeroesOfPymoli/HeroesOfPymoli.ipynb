{
 "cells": [
  {
   "cell_type": "markdown",
   "metadata": {},
   "source": [
    "# Pandas Homework - Pandas, Pandas, Pandas\n",
    "\n",
    "## Background\n",
    "\n",
    "The data dive continues!\n",
    "\n",
    "Now, it's time to take what you've learned about Python Pandas and apply it to new situations. For this assignment, you'll need to complete **one of two** (not both)  Data Challenges. Once again, which challenge you take on is your choice. Just be sure to give it your all -- as the skills you hone will become powerful tools in your data analytics tool belt.\n",
    "\n",
    "### Before You Begin\n",
    "\n",
    "1. Create a new repository for this project called `pandas-challenge`. **Do not add this homework to an existing repository**.\n",
    "\n",
    "2. Clone the new repository to your computer.\n",
    "\n",
    "3. Inside your local git repository, create a directory for the Pandas Challenge you choose. Use folder names corresponding to the challenges: **HeroesOfPymoli** or  **PyCitySchools**.\n",
    "\n",
    "4. Add your Jupyter notebook to this folder. This will be the main script to run for analysis.\n",
    "\n",
    "5. Push the above changes to GitHub or GitLab.\n",
    "\n",
    "## Option 1: Heroes of Pymoli\n",
    "\n",
    "![Fantasy](Homework/InstructionsImages/Fantasy.png)\n",
    "\n",
    "Congratulations! After a lot of hard work in the data munging mines, you've landed a job as Lead Analyst for an independent gaming company. You've been assigned the task of analyzing the data for their most recent fantasy game Heroes of Pymoli.\n",
    "\n",
    "Like many others in its genre, the game is free-to-play, but players are encouraged to purchase optional items that enhance their playing experience. As a first task, the company would like you to generate a report that breaks down the game's purchasing data into meaningful insights.\n",
    "\n",
    "Your final report should include each of the following:\n",
    "\n",
    "### Player Count\n",
    "\n",
    "* Total Number of Players\n",
    "\n",
    "### Purchasing Analysis (Total)\n",
    "\n",
    "* Number of Unique Items\n",
    "* Average Purchase Price\n",
    "* Total Number of Purchases\n",
    "* Total Revenue\n",
    "\n",
    "### Gender Demographics\n",
    "\n",
    "* Percentage and Count of Male Players\n",
    "* Percentage and Count of Female Players\n",
    "* Percentage and Count of Other / Non-Disclosed\n",
    "\n",
    "### Purchasing Analysis (Gender)\n",
    "\n",
    "* The below each broken by gender\n",
    "  * Purchase Count\n",
    "  * Average Purchase Price\n",
    "  * Total Purchase Value\n",
    "  * Average Purchase Total per Person by Gender\n",
    "\n",
    "### Age Demographics\n",
    "\n",
    "* The below each broken into bins of 4 years (i.e. &lt;10, 10-14, 15-19, etc.)\n",
    "  * Purchase Count\n",
    "  * Average Purchase Price\n",
    "  * Total Purchase Value\n",
    "  * Average Purchase Total per Person by Age Group\n",
    "\n",
    "### Top Spenders\n",
    "\n",
    "* Identify the the top 5 spenders in the game by total purchase value, then list (in a table):\n",
    "  * SN\n",
    "  * Purchase Count\n",
    "  * Average Purchase Price\n",
    "  * Total Purchase Value\n",
    "\n",
    "### Most Popular Items\n",
    "\n",
    "* Identify the 5 most popular items by purchase count, then list (in a table):\n",
    "  * Item ID\n",
    "  * Item Name\n",
    "  * Purchase Count\n",
    "  * Item Price\n",
    "  * Total Purchase Value\n",
    "\n",
    "### Most Profitable Items\n",
    "\n",
    "* Identify the 5 most profitable items by total purchase value, then list (in a table):\n",
    "  * Item ID\n",
    "  * Item Name\n",
    "  * Purchase Count\n",
    "  * Item Price\n",
    "  * Total Purchase Value\n",
    "\n",
    "As final considerations:\n",
    "\n",
    "* You must use the Pandas Library and the Jupyter Notebook.\n",
    "* You must submit a link to your Github/Git Lab repo that contains your Jupyter Notebook.\n",
    "* You must include a written description of three observable trends based on the data.\n",
    "* See [Example Solution](HeroesOfPymoli/HeroesOfPymoli_starter.ipynb) for a reference on expected format.\n",
    "\n",
    "\n",
    "## Hints and Considerations\n",
    "\n",
    "* These are challenging activities for a number of reasons. For one, these activities will require you to analyze thousands of records. Hacking through the data to look for obvious trends in Excel is just not a feasible option. The size of the data may seem daunting, but pandas will allow you to efficiently parse through it.\n",
    "\n",
    "* Second, these activities will also challenge you by requiring you to learn on your feet. Don't fool yourself into thinking: \"I need to study pandas more closely before diving in.\" Get the basic gist of the library and then _immediately_ get to work. When facing a daunting task, it's easy to think: \"I'm just not ready to tackle it yet.\" But that's the surest way to never succeed. Learning to program requires one to constantly tinker, experiment, and learn on the fly. You are doing exactly the _right_ thing, if you find yourself constantly practicing Google-Fu and diving into documentation. There is just no way (or reason) to try and memorize it all. Online references are available for you to use when you need them. So use them!\n",
    "\n",
    "* Take each of these tasks one at a time. Begin your work, answering the basic questions: \"How do I import the data?\" \"How do I convert the data into a DataFrame?\" \"How do I build the first table?\" Don't get intimidated by the number of asks. Many of them are repetitive in nature with just a few tweaks. Be persistent and creative!\n",
    "\n",
    "* Expect these exercises to take time! Don't get discouraged if you find yourself spending  hours initially with little progress. Force yourself to deal with the discomfort of not knowing and forge ahead. Consider these hours an investment in your future!\n",
    "\n",
    "* As always, feel encouraged to work in groups and get help from your TAs and Instructor. Just remember, true success comes from mastery and _not_ a completed homework assignment. So challenge yourself to truly succeed!\n",
    "\n",
    "* Ensure your repository has regular commits (i.e. 20+ commits) and a thorough README.md file\n",
    "\n",
    "### Copyright\n",
    "\n",
    "© 2021 Trilogy Education Services, LLC, a 2U, Inc. brand. Confidential and Proprietary. All Rights Reserved.\n",
    "\n",
    "\n"
   ]
  },
  {
   "cell_type": "markdown",
   "metadata": {},
   "source": [
    "### Note\n",
    "* Instructions have been included for each segment. You do not have to follow them exactly, but they are included to help you think through the steps."
   ]
  },
  {
   "cell_type": "code",
   "execution_count": 1,
   "metadata": {},
   "outputs": [
    {
     "data": {
      "text/html": [
       "<div>\n",
       "<style scoped>\n",
       "    .dataframe tbody tr th:only-of-type {\n",
       "        vertical-align: middle;\n",
       "    }\n",
       "\n",
       "    .dataframe tbody tr th {\n",
       "        vertical-align: top;\n",
       "    }\n",
       "\n",
       "    .dataframe thead th {\n",
       "        text-align: right;\n",
       "    }\n",
       "</style>\n",
       "<table border=\"1\" class=\"dataframe\">\n",
       "  <thead>\n",
       "    <tr style=\"text-align: right;\">\n",
       "      <th></th>\n",
       "      <th>Purchase ID</th>\n",
       "      <th>SN</th>\n",
       "      <th>Age</th>\n",
       "      <th>Gender</th>\n",
       "      <th>Item ID</th>\n",
       "      <th>Item Name</th>\n",
       "      <th>Price</th>\n",
       "    </tr>\n",
       "  </thead>\n",
       "  <tbody>\n",
       "    <tr>\n",
       "      <th>0</th>\n",
       "      <td>0</td>\n",
       "      <td>Lisim78</td>\n",
       "      <td>20</td>\n",
       "      <td>Male</td>\n",
       "      <td>108</td>\n",
       "      <td>Extraction, Quickblade Of Trembling Hands</td>\n",
       "      <td>3.53</td>\n",
       "    </tr>\n",
       "    <tr>\n",
       "      <th>1</th>\n",
       "      <td>1</td>\n",
       "      <td>Lisovynya38</td>\n",
       "      <td>40</td>\n",
       "      <td>Male</td>\n",
       "      <td>143</td>\n",
       "      <td>Frenzied Scimitar</td>\n",
       "      <td>1.56</td>\n",
       "    </tr>\n",
       "    <tr>\n",
       "      <th>2</th>\n",
       "      <td>2</td>\n",
       "      <td>Ithergue48</td>\n",
       "      <td>24</td>\n",
       "      <td>Male</td>\n",
       "      <td>92</td>\n",
       "      <td>Final Critic</td>\n",
       "      <td>4.88</td>\n",
       "    </tr>\n",
       "    <tr>\n",
       "      <th>3</th>\n",
       "      <td>3</td>\n",
       "      <td>Chamassasya86</td>\n",
       "      <td>24</td>\n",
       "      <td>Male</td>\n",
       "      <td>100</td>\n",
       "      <td>Blindscythe</td>\n",
       "      <td>3.27</td>\n",
       "    </tr>\n",
       "    <tr>\n",
       "      <th>4</th>\n",
       "      <td>4</td>\n",
       "      <td>Iskosia90</td>\n",
       "      <td>23</td>\n",
       "      <td>Male</td>\n",
       "      <td>131</td>\n",
       "      <td>Fury</td>\n",
       "      <td>1.44</td>\n",
       "    </tr>\n",
       "  </tbody>\n",
       "</table>\n",
       "</div>"
      ],
      "text/plain": [
       "   Purchase ID             SN  Age Gender  Item ID  \\\n",
       "0            0        Lisim78   20   Male      108   \n",
       "1            1    Lisovynya38   40   Male      143   \n",
       "2            2     Ithergue48   24   Male       92   \n",
       "3            3  Chamassasya86   24   Male      100   \n",
       "4            4      Iskosia90   23   Male      131   \n",
       "\n",
       "                                   Item Name  Price  \n",
       "0  Extraction, Quickblade Of Trembling Hands   3.53  \n",
       "1                          Frenzied Scimitar   1.56  \n",
       "2                               Final Critic   4.88  \n",
       "3                                Blindscythe   3.27  \n",
       "4                                       Fury   1.44  "
      ]
     },
     "execution_count": 1,
     "metadata": {},
     "output_type": "execute_result"
    }
   ],
   "source": [
    "# This block unchanged from Starter notebook except for variable and index rename\n",
    "# Dependencies and Setup\n",
    "import pandas as pd\n",
    "\n",
    "# File to Load (Remember to Change These)\n",
    "csv_path = \"Resources/purchase_data.csv\"\n",
    "\n",
    "# Read Purchasing File and store into Pandas data frame\n",
    "purchase_data = pd.read_csv(csv_path)\n",
    "\n",
    "# Test for output\n",
    "purchase_data.head()"
   ]
  },
  {
   "cell_type": "code",
   "execution_count": 2,
   "metadata": {},
   "outputs": [
    {
     "data": {
      "text/plain": [
       "Purchase ID    780\n",
       "SN             780\n",
       "Age            780\n",
       "Gender         780\n",
       "Item ID        780\n",
       "Item Name      780\n",
       "Price          780\n",
       "dtype: int64"
      ]
     },
     "execution_count": 2,
     "metadata": {},
     "output_type": "execute_result"
    }
   ],
   "source": [
    "# look for missing values\n",
    "purchase_data.count()"
   ]
  },
  {
   "cell_type": "markdown",
   "metadata": {},
   "source": [
    "## Player Count"
   ]
  },
  {
   "cell_type": "markdown",
   "metadata": {},
   "source": [
    "* Display the total number of players\n"
   ]
  },
  {
   "cell_type": "code",
   "execution_count": 3,
   "metadata": {},
   "outputs": [
    {
     "name": "stdout",
     "output_type": "stream",
     "text": [
      "Total Players: 576\n"
     ]
    }
   ],
   "source": [
    "# Find unique screen names to determine accurate player count\n",
    "player_count = len(purchase_data[\"SN\"].unique())\n",
    "\n",
    "# Check output vs starter notebook\n",
    "print(f\"Total Players: {player_count}\")"
   ]
  },
  {
   "cell_type": "markdown",
   "metadata": {},
   "source": [
    "## Purchasing Analysis (Total)"
   ]
  },
  {
   "cell_type": "markdown",
   "metadata": {},
   "source": [
    "* Run basic calculations to obtain number of unique items, average price, etc.\n",
    "\n",
    "\n",
    "* Create a summary data frame to hold the results\n",
    "\n",
    "\n",
    "* Optional: give the displayed data cleaner formatting\n",
    "\n",
    "\n",
    "* Display the summary data frame\n"
   ]
  },
  {
   "cell_type": "code",
   "execution_count": 4,
   "metadata": {
    "scrolled": true
   },
   "outputs": [
    {
     "data": {
      "text/html": [
       "<style  type=\"text/css\" >\n",
       "</style><table id=\"T_6e6fa674_9cca_11eb_a6c4_f40f243538c4\" ><thead>    <tr>        <th class=\"col_heading level0 col0\" >Number of Unique Items</th>        <th class=\"col_heading level0 col1\" >Average Price</th>        <th class=\"col_heading level0 col2\" >Number of Purchases</th>        <th class=\"col_heading level0 col3\" >Total Revenue</th>    </tr></thead><tbody>\n",
       "                <tr>\n",
       "                                <td id=\"T_6e6fa674_9cca_11eb_a6c4_f40f243538c4row0_col0\" class=\"data row0 col0\" >179</td>\n",
       "                        <td id=\"T_6e6fa674_9cca_11eb_a6c4_f40f243538c4row0_col1\" class=\"data row0 col1\" >$3.05</td>\n",
       "                        <td id=\"T_6e6fa674_9cca_11eb_a6c4_f40f243538c4row0_col2\" class=\"data row0 col2\" >780</td>\n",
       "                        <td id=\"T_6e6fa674_9cca_11eb_a6c4_f40f243538c4row0_col3\" class=\"data row0 col3\" >$2,379.77</td>\n",
       "            </tr>\n",
       "    </tbody></table>"
      ],
      "text/plain": [
       "<pandas.io.formats.style.Styler at 0x120f0bb00>"
      ]
     },
     "execution_count": 4,
     "metadata": {},
     "output_type": "execute_result"
    }
   ],
   "source": [
    "# Calculate the number of unqiue items\n",
    "unique_items = len(purchase_data[\"Item ID\"].unique())\n",
    "\n",
    "# Calculate the average price\n",
    "average_price = purchase_data[\"Price\"].mean()\n",
    "average_price = average_price.round(2)\n",
    "\n",
    "# Caluclate total number of purchases\n",
    "num_purchases = len(purchase_data.index)\n",
    "\n",
    "# Caluclate total revenue\n",
    "total_revenue = purchase_data[\"Price\"].sum()\n",
    "\n",
    "# Create summary data frame\n",
    "summary_total_df = pd.DataFrame({\"Number of Unique Items\": [unique_items],\n",
    "                          \"Average Price\": [average_price],\n",
    "                          \"Number of Purchases\": [num_purchases],\n",
    "                          \"Total Revenue\": [total_revenue]})\n",
    "\n",
    "# Format Average Price and Total Revenue to currency format.\n",
    "summary_total_df[\"Average Price\"] = summary_total_df[\"Average Price\"].map(\"${:,.2f}\".format)\n",
    "summary_total_df[\"Total Revenue\"] = summary_total_df[\"Total Revenue\"].map(\"${:,.2f}\".format)\n",
    "\n",
    "# Display summary data frame\n",
    "summary_total_df.style.hide_index()"
   ]
  },
  {
   "cell_type": "markdown",
   "metadata": {},
   "source": [
    "## Gender Demographics"
   ]
  },
  {
   "cell_type": "markdown",
   "metadata": {},
   "source": [
    "* Percentage and Count of Male Players\n",
    "\n",
    "\n",
    "* Percentage and Count of Female Players\n",
    "\n",
    "\n",
    "* Percentage and Count of Other / Non-Disclosed\n",
    "\n",
    "\n"
   ]
  },
  {
   "cell_type": "code",
   "execution_count": 5,
   "metadata": {},
   "outputs": [
    {
     "data": {
      "text/html": [
       "<div>\n",
       "<style scoped>\n",
       "    .dataframe tbody tr th:only-of-type {\n",
       "        vertical-align: middle;\n",
       "    }\n",
       "\n",
       "    .dataframe tbody tr th {\n",
       "        vertical-align: top;\n",
       "    }\n",
       "\n",
       "    .dataframe thead th {\n",
       "        text-align: right;\n",
       "    }\n",
       "</style>\n",
       "<table border=\"1\" class=\"dataframe\">\n",
       "  <thead>\n",
       "    <tr style=\"text-align: right;\">\n",
       "      <th></th>\n",
       "      <th>Total Count</th>\n",
       "      <th>Percentage of Players</th>\n",
       "    </tr>\n",
       "  </thead>\n",
       "  <tbody>\n",
       "    <tr>\n",
       "      <th>Male</th>\n",
       "      <td>484</td>\n",
       "      <td>84.03%</td>\n",
       "    </tr>\n",
       "    <tr>\n",
       "      <th>Female</th>\n",
       "      <td>81</td>\n",
       "      <td>14.06%</td>\n",
       "    </tr>\n",
       "    <tr>\n",
       "      <th>Other / Non-Disclosed</th>\n",
       "      <td>11</td>\n",
       "      <td>1.91%</td>\n",
       "    </tr>\n",
       "  </tbody>\n",
       "</table>\n",
       "</div>"
      ],
      "text/plain": [
       "                       Total Count Percentage of Players\n",
       "Male                           484                84.03%\n",
       "Female                          81                14.06%\n",
       "Other / Non-Disclosed           11                 1.91%"
      ]
     },
     "execution_count": 5,
     "metadata": {},
     "output_type": "execute_result"
    }
   ],
   "source": [
    "# Create new df without duplicate screen names\n",
    "gender_df = purchase_data[['Gender','SN']].drop_duplicates(subset = 'SN')\n",
    "\n",
    "# Count how many purchases have occured for each listed gender category\n",
    "gender_counts = gender_df[\"Gender\"].value_counts()\n",
    "\n",
    "# Using GroupBy in order to separate the data into fields according to \"Gender\" values\n",
    "grouped_gender_df = gender_df.groupby(['Gender'])\n",
    "\n",
    "# Percent math\n",
    "gender_percent = (gender_counts/gender_counts.sum())*100\n",
    "\n",
    "# Create summary df\n",
    "demo_gender_df = pd.DataFrame({\"Total Count\": gender_counts,\n",
    "                              \"Percentage of Players\": gender_percent})\n",
    "\n",
    "# Format to percent\n",
    "demo_gender_df[\"Percentage of Players\"] = demo_gender_df[\"Percentage of Players\"].map(\"{:,.2f}%\".format)\n",
    "\n",
    "# In order to be visualized, a data function must be used...\n",
    "demo_gender_df.head()"
   ]
  },
  {
   "cell_type": "markdown",
   "metadata": {},
   "source": [
    "\n",
    "## Purchasing Analysis (Gender)"
   ]
  },
  {
   "cell_type": "markdown",
   "metadata": {},
   "source": [
    "* Run basic calculations to obtain purchase count, avg. purchase price, avg. purchase total per person etc. by gender\n",
    "\n",
    "\n",
    "\n",
    "\n",
    "* Create a summary data frame to hold the results\n",
    "\n",
    "\n",
    "* Optional: give the displayed data cleaner formatting\n",
    "\n",
    "\n",
    "* Display the summary data frame"
   ]
  },
  {
   "cell_type": "code",
   "execution_count": 6,
   "metadata": {},
   "outputs": [
    {
     "data": {
      "text/html": [
       "<div>\n",
       "<style scoped>\n",
       "    .dataframe tbody tr th:only-of-type {\n",
       "        vertical-align: middle;\n",
       "    }\n",
       "\n",
       "    .dataframe tbody tr th {\n",
       "        vertical-align: top;\n",
       "    }\n",
       "\n",
       "    .dataframe thead th {\n",
       "        text-align: right;\n",
       "    }\n",
       "</style>\n",
       "<table border=\"1\" class=\"dataframe\">\n",
       "  <thead>\n",
       "    <tr style=\"text-align: right;\">\n",
       "      <th></th>\n",
       "      <th>Purchase Count</th>\n",
       "      <th>Average Purchase Price</th>\n",
       "      <th>Total Purchase Value</th>\n",
       "      <th>Avg Total Purchase per Person</th>\n",
       "    </tr>\n",
       "    <tr>\n",
       "      <th>Gender</th>\n",
       "      <th></th>\n",
       "      <th></th>\n",
       "      <th></th>\n",
       "      <th></th>\n",
       "    </tr>\n",
       "  </thead>\n",
       "  <tbody>\n",
       "    <tr>\n",
       "      <th>Female</th>\n",
       "      <td>113</td>\n",
       "      <td>$3.20</td>\n",
       "      <td>$361.94</td>\n",
       "      <td>$4.47</td>\n",
       "    </tr>\n",
       "    <tr>\n",
       "      <th>Male</th>\n",
       "      <td>652</td>\n",
       "      <td>$3.02</td>\n",
       "      <td>$1,967.64</td>\n",
       "      <td>$4.07</td>\n",
       "    </tr>\n",
       "    <tr>\n",
       "      <th>Other / Non-Disclosed</th>\n",
       "      <td>15</td>\n",
       "      <td>$3.35</td>\n",
       "      <td>$50.19</td>\n",
       "      <td>$4.56</td>\n",
       "    </tr>\n",
       "  </tbody>\n",
       "</table>\n",
       "</div>"
      ],
      "text/plain": [
       "                       Purchase Count Average Purchase Price  \\\n",
       "Gender                                                         \n",
       "Female                            113                  $3.20   \n",
       "Male                              652                  $3.02   \n",
       "Other / Non-Disclosed              15                  $3.35   \n",
       "\n",
       "                      Total Purchase Value Avg Total Purchase per Person  \n",
       "Gender                                                                    \n",
       "Female                             $361.94                         $4.47  \n",
       "Male                             $1,967.64                         $4.07  \n",
       "Other / Non-Disclosed               $50.19                         $4.56  "
      ]
     },
     "execution_count": 6,
     "metadata": {},
     "output_type": "execute_result"
    }
   ],
   "source": [
    "# Create grouped data frame\n",
    "gen_purch_df = purchase_data.groupby('Gender')\n",
    "\n",
    "# Get total count of purchases\n",
    "gen_purch_count = gen_purch_df['Purchase ID'].count()\n",
    "\n",
    "# Calculate mean of Price\n",
    "gen_avg_price = gen_purch_df['Price'].mean()\n",
    "\n",
    "# Calculate sum of all purchase prices\n",
    "gen_total_purch = gen_purch_df['Price'].sum()\n",
    "\n",
    "# Calculate average total purchase per person\n",
    "gen_total_per = (gen_total_purch/gender_counts)\n",
    "\n",
    "# Create summary df\n",
    "purch_gen_df = pd.DataFrame({\"Purchase Count\": gen_purch_count,\n",
    "                            \"Average Purchase Price\": gen_avg_price,\n",
    "                            \"Total Purchase Value\": gen_total_purch,\n",
    "                            \"Avg Total Purchase per Person\": gen_total_per})\n",
    "\n",
    "# Format currency columns to currency format.\n",
    "purch_gen_df[\"Average Purchase Price\"] = purch_gen_df[\"Average Purchase Price\"].map(\"${:,.2f}\".format)\n",
    "purch_gen_df[\"Total Purchase Value\"] = purch_gen_df[\"Total Purchase Value\"].map(\"${:,.2f}\".format)\n",
    "purch_gen_df[\"Avg Total Purchase per Person\"] = purch_gen_df[\"Avg Total Purchase per Person\"].map(\"${:,.2f}\".format)\n",
    "\n",
    "# Display summary data frame\n",
    "purch_gen_df.head()"
   ]
  },
  {
   "cell_type": "markdown",
   "metadata": {},
   "source": [
    "## Age Demographics"
   ]
  },
  {
   "cell_type": "markdown",
   "metadata": {},
   "source": [
    "* Establish bins for ages\n",
    "\n",
    "\n",
    "* Categorize the existing players using the age bins. Hint: use pd.cut()\n",
    "\n",
    "\n",
    "* Calculate the numbers and percentages by age group\n",
    "\n",
    "\n",
    "* Create a summary data frame to hold the results\n",
    "\n",
    "\n",
    "* Optional: round the percentage column to two decimal points\n",
    "\n",
    "\n",
    "* Display Age Demographics Table"
   ]
  },
  {
   "cell_type": "code",
   "execution_count": 7,
   "metadata": {},
   "outputs": [
    {
     "data": {
      "text/html": [
       "<div>\n",
       "<style scoped>\n",
       "    .dataframe tbody tr th:only-of-type {\n",
       "        vertical-align: middle;\n",
       "    }\n",
       "\n",
       "    .dataframe tbody tr th {\n",
       "        vertical-align: top;\n",
       "    }\n",
       "\n",
       "    .dataframe thead th {\n",
       "        text-align: right;\n",
       "    }\n",
       "</style>\n",
       "<table border=\"1\" class=\"dataframe\">\n",
       "  <thead>\n",
       "    <tr style=\"text-align: right;\">\n",
       "      <th></th>\n",
       "      <th>Total Count</th>\n",
       "      <th>Percentage of Players</th>\n",
       "    </tr>\n",
       "    <tr>\n",
       "      <th>Age Group</th>\n",
       "      <th></th>\n",
       "      <th></th>\n",
       "    </tr>\n",
       "  </thead>\n",
       "  <tbody>\n",
       "    <tr>\n",
       "      <th>&lt;10</th>\n",
       "      <td>17</td>\n",
       "      <td>2.95%</td>\n",
       "    </tr>\n",
       "    <tr>\n",
       "      <th>10-14</th>\n",
       "      <td>22</td>\n",
       "      <td>3.82%</td>\n",
       "    </tr>\n",
       "    <tr>\n",
       "      <th>15-19</th>\n",
       "      <td>107</td>\n",
       "      <td>18.58%</td>\n",
       "    </tr>\n",
       "    <tr>\n",
       "      <th>20-24</th>\n",
       "      <td>258</td>\n",
       "      <td>44.79%</td>\n",
       "    </tr>\n",
       "    <tr>\n",
       "      <th>25-29</th>\n",
       "      <td>77</td>\n",
       "      <td>13.37%</td>\n",
       "    </tr>\n",
       "    <tr>\n",
       "      <th>30-34</th>\n",
       "      <td>52</td>\n",
       "      <td>9.03%</td>\n",
       "    </tr>\n",
       "    <tr>\n",
       "      <th>35-39</th>\n",
       "      <td>31</td>\n",
       "      <td>5.38%</td>\n",
       "    </tr>\n",
       "    <tr>\n",
       "      <th>40+</th>\n",
       "      <td>12</td>\n",
       "      <td>2.08%</td>\n",
       "    </tr>\n",
       "  </tbody>\n",
       "</table>\n",
       "</div>"
      ],
      "text/plain": [
       "           Total Count Percentage of Players\n",
       "Age Group                                   \n",
       "<10                 17                 2.95%\n",
       "10-14               22                 3.82%\n",
       "15-19              107                18.58%\n",
       "20-24              258                44.79%\n",
       "25-29               77                13.37%\n",
       "30-34               52                 9.03%\n",
       "35-39               31                 5.38%\n",
       "40+                 12                 2.08%"
      ]
     },
     "execution_count": 7,
     "metadata": {},
     "output_type": "execute_result"
    }
   ],
   "source": [
    "# Create new df without duplicate screen names\n",
    "age_df = purchase_data[['Age','SN']].drop_duplicates(subset = 'SN')\n",
    "\n",
    "# Create bins and bin names\n",
    "# Cap of 150 to ensure no missed elderly ages\n",
    "bins = [0, 9, 14, 19, 24, 29, 34, 39, 150]\n",
    "bin_labels = [\"<10\", \"10-14\", \"15-19\", \"20-24\", \"25-29\", \"30-34\", \"35-39\", \"40+\"]\n",
    "\n",
    "# Apply bins and labels\n",
    "age_df[\"Age Group\"] = pd.cut(age_df[\"Age\"], bins, labels=bin_labels)\n",
    "\n",
    "# Group age data frame\n",
    "age_df = age_df.groupby('Age Group').count()\n",
    "\n",
    "# Count how many purchases have occured for each age bin\n",
    "age_counts = age_df[\"SN\"]\n",
    "\n",
    "# Percent math\n",
    "age_percent = (age_counts/age_counts.sum())*100\n",
    "\n",
    "# Create summary df\n",
    "demo_age_df = pd.DataFrame({\"Total Count\": age_counts,\n",
    "                            \"Percentage of Players\": age_percent})\n",
    "\n",
    "# Format to percent\n",
    "demo_age_df[\"Percentage of Players\"] = demo_age_df[\"Percentage of Players\"].map(\"{:,.2f}%\".format)\n",
    "\n",
    "# Display summary df\n",
    "demo_age_df"
   ]
  },
  {
   "cell_type": "markdown",
   "metadata": {},
   "source": [
    "## Purchasing Analysis (Age)"
   ]
  },
  {
   "cell_type": "markdown",
   "metadata": {},
   "source": [
    "* Bin the purchase_data data frame by age\n",
    "\n",
    "\n",
    "* Run basic calculations to obtain purchase count, avg. purchase price, avg. purchase total per person etc. in the table below\n",
    "\n",
    "\n",
    "* Create a summary data frame to hold the results\n",
    "\n",
    "\n",
    "* Optional: give the displayed data cleaner formatting\n",
    "\n",
    "\n",
    "* Display the summary data frame"
   ]
  },
  {
   "cell_type": "code",
   "execution_count": null,
   "metadata": {},
   "outputs": [],
   "source": []
  },
  {
   "cell_type": "markdown",
   "metadata": {},
   "source": [
    "## Top Spenders"
   ]
  },
  {
   "cell_type": "markdown",
   "metadata": {},
   "source": [
    "* Run basic calculations to obtain the results in the table below\n",
    "\n",
    "\n",
    "* Create a summary data frame to hold the results\n",
    "\n",
    "\n",
    "* Sort the total purchase value column in descending order\n",
    "\n",
    "\n",
    "* Optional: give the displayed data cleaner formatting\n",
    "\n",
    "\n",
    "* Display a preview of the summary data frame\n",
    "\n"
   ]
  },
  {
   "cell_type": "code",
   "execution_count": null,
   "metadata": {},
   "outputs": [],
   "source": []
  },
  {
   "cell_type": "markdown",
   "metadata": {},
   "source": [
    "## Most Popular Items"
   ]
  },
  {
   "cell_type": "markdown",
   "metadata": {},
   "source": [
    "* Retrieve the Item ID, Item Name, and Item Price columns\n",
    "\n",
    "\n",
    "* Group by Item ID and Item Name. Perform calculations to obtain purchase count, average item price, and total purchase value\n",
    "\n",
    "\n",
    "* Create a summary data frame to hold the results\n",
    "\n",
    "\n",
    "* Sort the purchase count column in descending order\n",
    "\n",
    "\n",
    "* Optional: give the displayed data cleaner formatting\n",
    "\n",
    "\n",
    "* Display a preview of the summary data frame\n",
    "\n"
   ]
  },
  {
   "cell_type": "code",
   "execution_count": null,
   "metadata": {},
   "outputs": [],
   "source": []
  },
  {
   "cell_type": "markdown",
   "metadata": {},
   "source": [
    "## Most Profitable Items"
   ]
  },
  {
   "cell_type": "markdown",
   "metadata": {},
   "source": [
    "* Sort the above table by total purchase value in descending order\n",
    "\n",
    "\n",
    "* Optional: give the displayed data cleaner formatting\n",
    "\n",
    "\n",
    "* Display a preview of the data frame\n",
    "\n"
   ]
  },
  {
   "cell_type": "code",
   "execution_count": null,
   "metadata": {
    "scrolled": true
   },
   "outputs": [],
   "source": []
  }
 ],
 "metadata": {
  "anaconda-cloud": {},
  "kernel_info": {
   "name": "python3"
  },
  "kernelspec": {
   "display_name": "Python [conda env:PythonData] *",
   "language": "python",
   "name": "conda-env-PythonData-py"
  },
  "language_info": {
   "codemirror_mode": {
    "name": "ipython",
    "version": 3
   },
   "file_extension": ".py",
   "mimetype": "text/x-python",
   "name": "python",
   "nbconvert_exporter": "python",
   "pygments_lexer": "ipython3",
   "version": "3.6.10"
  },
  "latex_envs": {
   "LaTeX_envs_menu_present": true,
   "autoclose": false,
   "autocomplete": true,
   "bibliofile": "biblio.bib",
   "cite_by": "apalike",
   "current_citInitial": 1,
   "eqLabelWithNumbers": true,
   "eqNumInitial": 1,
   "hotkeys": {
    "equation": "Ctrl-E",
    "itemize": "Ctrl-I"
   },
   "labels_anchors": false,
   "latex_user_defs": false,
   "report_style_numbering": false,
   "user_envs_cfg": false
  },
  "nteract": {
   "version": "0.2.0"
  }
 },
 "nbformat": 4,
 "nbformat_minor": 2
}
